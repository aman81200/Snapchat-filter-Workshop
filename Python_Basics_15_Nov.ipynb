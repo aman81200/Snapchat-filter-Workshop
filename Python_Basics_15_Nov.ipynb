{
  "nbformat": 4,
  "nbformat_minor": 0,
  "metadata": {
    "colab": {
      "name": "Python Basics 15 Nov",
      "provenance": []
    },
    "kernelspec": {
      "name": "python3",
      "display_name": "Python 3"
    }
  },
  "cells": [
    {
      "cell_type": "code",
      "metadata": {
        "id": "qBEpLATkIBdW",
        "outputId": "25849e9c-183a-4615-bcb9-1412329fb9cf",
        "colab": {
          "base_uri": "https://localhost:8080/"
        }
      },
      "source": [
        "# shift + enter\n",
        "print(\"hello world\")"
      ],
      "execution_count": 1,
      "outputs": [
        {
          "output_type": "stream",
          "text": [
            "hello world\n"
          ],
          "name": "stdout"
        }
      ]
    },
    {
      "cell_type": "code",
      "metadata": {
        "id": "oSfVCvkaIaVg"
      },
      "source": [
        "n = 7"
      ],
      "execution_count": 2,
      "outputs": []
    },
    {
      "cell_type": "code",
      "metadata": {
        "id": "IdABzqukIh2i",
        "outputId": "731e4555-4914-43e7-d7c6-006c40e47326",
        "colab": {
          "base_uri": "https://localhost:8080/"
        }
      },
      "source": [
        "print(n)"
      ],
      "execution_count": 3,
      "outputs": [
        {
          "output_type": "stream",
          "text": [
            "7\n"
          ],
          "name": "stdout"
        }
      ]
    },
    {
      "cell_type": "code",
      "metadata": {
        "id": "XEg4M8hEIl-N",
        "outputId": "d3068f82-4188-4527-c731-d19cceb09f6c",
        "colab": {
          "base_uri": "https://localhost:8080/"
        }
      },
      "source": [
        "type(n)"
      ],
      "execution_count": 4,
      "outputs": [
        {
          "output_type": "execute_result",
          "data": {
            "text/plain": [
              "int"
            ]
          },
          "metadata": {
            "tags": []
          },
          "execution_count": 4
        }
      ]
    },
    {
      "cell_type": "code",
      "metadata": {
        "id": "Mfh49N43Iwae",
        "outputId": "01a220e7-464c-4cb1-b763-cbf7a4d36c24",
        "colab": {
          "base_uri": "https://localhost:8080/"
        }
      },
      "source": [
        "n = \"Hey\"\n",
        "print(n)\n",
        "print(type(n))"
      ],
      "execution_count": 5,
      "outputs": [
        {
          "output_type": "stream",
          "text": [
            "Hey\n",
            "<class 'str'>\n"
          ],
          "name": "stdout"
        }
      ]
    },
    {
      "cell_type": "code",
      "metadata": {
        "id": "3_X41FtEI6fc",
        "outputId": "89b53b52-3424-42d0-d4ec-4dfcf5a07ebb",
        "colab": {
          "base_uri": "https://localhost:8080/"
        }
      },
      "source": [
        "i = 2\n",
        "\n",
        "if (i>=10):\n",
        "  print(\"number is greater than 10\")\n",
        "elif (i<5):\n",
        "  print(\"number is smaller than 5\")\n",
        "else:\n",
        "  print(\"number is between 5 and 10\")"
      ],
      "execution_count": 7,
      "outputs": [
        {
          "output_type": "stream",
          "text": [
            "number is smaller than 5\n"
          ],
          "name": "stdout"
        }
      ]
    },
    {
      "cell_type": "code",
      "metadata": {
        "id": "uJFGYdc9JME7",
        "outputId": "a194dc0a-671a-487a-a529-b9645d91b8f5",
        "colab": {
          "base_uri": "https://localhost:8080/"
        }
      },
      "source": [
        "i = 0\n",
        "\n",
        "while (i <=10):\n",
        "  print(i)\n",
        "  i = i + 1"
      ],
      "execution_count": 10,
      "outputs": [
        {
          "output_type": "stream",
          "text": [
            "0\n",
            "1\n",
            "2\n",
            "3\n",
            "4\n",
            "5\n",
            "6\n",
            "7\n",
            "8\n",
            "9\n",
            "10\n"
          ],
          "name": "stdout"
        }
      ]
    },
    {
      "cell_type": "code",
      "metadata": {
        "id": "M3q-FZtPJtcu",
        "outputId": "0e0dca93-b394-4c5d-bb4e-73f1e927ce8c",
        "colab": {
          "base_uri": "https://localhost:8080/"
        }
      },
      "source": [
        "for x in range(5, 19, 2):\n",
        "  print(x)"
      ],
      "execution_count": 14,
      "outputs": [
        {
          "output_type": "stream",
          "text": [
            "5\n",
            "7\n",
            "9\n",
            "11\n",
            "13\n",
            "15\n",
            "17\n"
          ],
          "name": "stdout"
        }
      ]
    },
    {
      "cell_type": "code",
      "metadata": {
        "id": "nVzi4g44KG0R"
      },
      "source": [
        "def greeter(name = \"None\"):\n",
        "  print(\"Hello \" + name)"
      ],
      "execution_count": 16,
      "outputs": []
    },
    {
      "cell_type": "code",
      "metadata": {
        "id": "1wXNgqLWK6_i",
        "outputId": "9781f891-54d4-4700-e379-7f0149414820",
        "colab": {
          "base_uri": "https://localhost:8080/"
        }
      },
      "source": [
        "greeter(\"Students\")"
      ],
      "execution_count": 19,
      "outputs": [
        {
          "output_type": "stream",
          "text": [
            "Hello Students\n"
          ],
          "name": "stdout"
        }
      ]
    },
    {
      "cell_type": "markdown",
      "metadata": {
        "id": "Kc0pxobXLRVu"
      },
      "source": [
        "# Data Structures in Python\n",
        " - List\n",
        " - tuples\n",
        " - set\n",
        " - dictionary"
      ]
    },
    {
      "cell_type": "code",
      "metadata": {
        "id": "7RjSJuAlLCvr"
      },
      "source": [
        "li = [5,2,9,10, 56, 23]"
      ],
      "execution_count": 20,
      "outputs": []
    },
    {
      "cell_type": "code",
      "metadata": {
        "id": "em3-BTx2L5oe",
        "outputId": "10137a1b-a75c-4b72-e1c5-0178ae6a44a8",
        "colab": {
          "base_uri": "https://localhost:8080/"
        }
      },
      "source": [
        "type(li)"
      ],
      "execution_count": 21,
      "outputs": [
        {
          "output_type": "execute_result",
          "data": {
            "text/plain": [
              "list"
            ]
          },
          "metadata": {
            "tags": []
          },
          "execution_count": 21
        }
      ]
    },
    {
      "cell_type": "code",
      "metadata": {
        "id": "5VvpOJPbL7Lt",
        "outputId": "5871c864-9f49-48b0-df57-ceddad8c36a3",
        "colab": {
          "base_uri": "https://localhost:8080/"
        }
      },
      "source": [
        "print(li[0])\n",
        "print(li[1])\n",
        "print(li[-1]) # Negative Indexing\n",
        "print(li[-6])"
      ],
      "execution_count": 27,
      "outputs": [
        {
          "output_type": "stream",
          "text": [
            "5\n",
            "2\n",
            "23\n",
            "5\n"
          ],
          "name": "stdout"
        }
      ]
    },
    {
      "cell_type": "code",
      "metadata": {
        "id": "Ow_q2Y5CMEUl",
        "outputId": "6d651c70-287f-4ffb-9073-188ea1bc008f",
        "colab": {
          "base_uri": "https://localhost:8080/"
        }
      },
      "source": [
        "# List slicing\n",
        "# li[start_index : end_index + 1 ]\n",
        "li[1 : 5]"
      ],
      "execution_count": 29,
      "outputs": [
        {
          "output_type": "execute_result",
          "data": {
            "text/plain": [
              "[2, 9, 10, 56]"
            ]
          },
          "metadata": {
            "tags": []
          },
          "execution_count": 29
        }
      ]
    },
    {
      "cell_type": "code",
      "metadata": {
        "id": "vW-L-cFVMfOH",
        "outputId": "94cc0ba0-8874-46c0-f6cd-bc78416e8047",
        "colab": {
          "base_uri": "https://localhost:8080/"
        }
      },
      "source": [
        "li[ : 4]"
      ],
      "execution_count": 31,
      "outputs": [
        {
          "output_type": "execute_result",
          "data": {
            "text/plain": [
              "[5, 2, 9, 10]"
            ]
          },
          "metadata": {
            "tags": []
          },
          "execution_count": 31
        }
      ]
    },
    {
      "cell_type": "code",
      "metadata": {
        "id": "4n5188mjNCru",
        "outputId": "7c22dca5-487a-4aeb-ee65-736b88da862f",
        "colab": {
          "base_uri": "https://localhost:8080/"
        }
      },
      "source": [
        "li"
      ],
      "execution_count": 32,
      "outputs": [
        {
          "output_type": "execute_result",
          "data": {
            "text/plain": [
              "[5, 2, 9, 10, 56, 23]"
            ]
          },
          "metadata": {
            "tags": []
          },
          "execution_count": 32
        }
      ]
    },
    {
      "cell_type": "code",
      "metadata": {
        "id": "1VM63qcfN9Pb"
      },
      "source": [
        "li.append(100)"
      ],
      "execution_count": 33,
      "outputs": []
    },
    {
      "cell_type": "code",
      "metadata": {
        "id": "Xh3AVOaXOBRL",
        "outputId": "2c049d91-7098-4d66-a3de-64bcd9f804a6",
        "colab": {
          "base_uri": "https://localhost:8080/"
        }
      },
      "source": [
        "li"
      ],
      "execution_count": 34,
      "outputs": [
        {
          "output_type": "execute_result",
          "data": {
            "text/plain": [
              "[5, 2, 9, 10, 56, 23, 100]"
            ]
          },
          "metadata": {
            "tags": []
          },
          "execution_count": 34
        }
      ]
    },
    {
      "cell_type": "code",
      "metadata": {
        "id": "rbDpq8SgOCZ6"
      },
      "source": [
        "li.sort()"
      ],
      "execution_count": 35,
      "outputs": []
    },
    {
      "cell_type": "code",
      "metadata": {
        "id": "MEbBcNcFOHj-",
        "outputId": "fe27f0a9-5607-41f3-a8ef-91de37eb5bb0",
        "colab": {
          "base_uri": "https://localhost:8080/"
        }
      },
      "source": [
        "li"
      ],
      "execution_count": 36,
      "outputs": [
        {
          "output_type": "execute_result",
          "data": {
            "text/plain": [
              "[2, 5, 9, 10, 23, 56, 100]"
            ]
          },
          "metadata": {
            "tags": []
          },
          "execution_count": 36
        }
      ]
    },
    {
      "cell_type": "code",
      "metadata": {
        "id": "b40QeUMjOINn"
      },
      "source": [
        "li2 = [5,2,9,10, \"Hello World\", True, 6.4, 9.0, [1,2,3], 33, 11]"
      ],
      "execution_count": 37,
      "outputs": []
    },
    {
      "cell_type": "code",
      "metadata": {
        "id": "G5Z70UwiObbc",
        "outputId": "a1cb8b96-f15b-4f89-addc-c06332f0bbd2",
        "colab": {
          "base_uri": "https://localhost:8080/"
        }
      },
      "source": [
        "li2"
      ],
      "execution_count": 38,
      "outputs": [
        {
          "output_type": "execute_result",
          "data": {
            "text/plain": [
              "[5, 2, 9, 10, 'Hello World', True, 6.4, 9.0, [1, 2, 3], 33, 11]"
            ]
          },
          "metadata": {
            "tags": []
          },
          "execution_count": 38
        }
      ]
    },
    {
      "cell_type": "code",
      "metadata": {
        "id": "VA9q7jWSOctt"
      },
      "source": [
        "tup = (5,6,8,1,10)"
      ],
      "execution_count": 39,
      "outputs": []
    },
    {
      "cell_type": "code",
      "metadata": {
        "id": "lUJCoJBzOpei",
        "outputId": "c3b596d8-ee95-498f-8a82-63637d9c7760",
        "colab": {
          "base_uri": "https://localhost:8080/"
        }
      },
      "source": [
        "type(tup)"
      ],
      "execution_count": 40,
      "outputs": [
        {
          "output_type": "execute_result",
          "data": {
            "text/plain": [
              "tuple"
            ]
          },
          "metadata": {
            "tags": []
          },
          "execution_count": 40
        }
      ]
    },
    {
      "cell_type": "code",
      "metadata": {
        "id": "QgNw8DT6O1-E",
        "outputId": "d4202858-c775-495e-bd98-74507b68313e",
        "colab": {
          "base_uri": "https://localhost:8080/",
          "height": 164
        }
      },
      "source": [
        "tup[0] = 50"
      ],
      "execution_count": 42,
      "outputs": [
        {
          "output_type": "error",
          "ename": "TypeError",
          "evalue": "ignored",
          "traceback": [
            "\u001b[0;31m---------------------------------------------------------------------------\u001b[0m",
            "\u001b[0;31mTypeError\u001b[0m                                 Traceback (most recent call last)",
            "\u001b[0;32m<ipython-input-42-13a3ee0d20e3>\u001b[0m in \u001b[0;36m<module>\u001b[0;34m()\u001b[0m\n\u001b[0;32m----> 1\u001b[0;31m \u001b[0mtup\u001b[0m\u001b[0;34m[\u001b[0m\u001b[0;36m0\u001b[0m\u001b[0;34m]\u001b[0m \u001b[0;34m=\u001b[0m \u001b[0;36m50\u001b[0m\u001b[0;34m\u001b[0m\u001b[0;34m\u001b[0m\u001b[0m\n\u001b[0m",
            "\u001b[0;31mTypeError\u001b[0m: 'tuple' object does not support item assignment"
          ]
        }
      ]
    },
    {
      "cell_type": "code",
      "metadata": {
        "id": "dG0PR31aO88h"
      },
      "source": [
        ""
      ],
      "execution_count": null,
      "outputs": []
    }
  ]
}